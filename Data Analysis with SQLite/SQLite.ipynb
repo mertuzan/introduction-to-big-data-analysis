{
 "cells": [
  {
   "cell_type": "markdown",
   "metadata": {},
   "source": [
    "## Data Analysis with SQLite"
   ]
  },
  {
   "cell_type": "markdown",
   "metadata": {},
   "source": [
    "#### Mert Hüseyin UZAN\n",
    "#### Dataset: WNBA Player Stats Season 2016-2017\n",
    "#### Dataset url: https://www.kaggle.com/jinxbe/wnba-player-stats-2017"
   ]
  },
  {
   "cell_type": "code",
   "execution_count": 2,
   "metadata": {},
   "outputs": [
    {
     "name": "stderr",
     "output_type": "stream",
     "text": [
      "C:\\Users\\merth\\Anaconda3\\lib\\site-packages\\pandas\\core\\generic.py:2663: UserWarning: The spaces in these column names will not be changed. In pandas versions < 0.14, spaces were converted to underscores.\n",
      "  method=method,\n"
     ]
    }
   ],
   "source": [
    "import sqlite3 as sql\n",
    "import pandas as pd\n",
    "conn=sql.connect(\"WNBA.db\")\n",
    "df = pd.read_csv('WNBA.csv')\n",
    "df.to_sql(\"WNBA\",conn,if_exists='replace')\n",
    "cur = conn.cursor()"
   ]
  },
  {
   "cell_type": "markdown",
   "metadata": {},
   "source": [
    "#### Problem 1: Average player height by team"
   ]
  },
  {
   "cell_type": "code",
   "execution_count": 3,
   "metadata": {},
   "outputs": [
    {
     "name": "stdout",
     "output_type": "stream",
     "text": [
      "('DAL', 186.58333333333334)\n",
      "('LA', 185.83333333333334)\n",
      "('ATL', 185.72727272727272)\n",
      "('PHO', 185.58333333333334)\n",
      "('CHI', 185.5)\n",
      "('CON', 184.75)\n",
      "('SEA', 184.33333333333334)\n",
      "('IND', 184.08333333333334)\n",
      "('SAN', 183.46153846153845)\n",
      "('NY', 183.16666666666666)\n",
      "('MIN', 183.0909090909091)\n",
      "('WAS', 182.75)\n"
     ]
    }
   ],
   "source": [
    "cur.execute(\"SELECT Team,AVG(Height) AS avg FROM WNBA GROUP BY Team ORDER BY avg DESC\")\n",
    "rows = cur.fetchall()\n",
    "for row in rows:\n",
    "    print(row)\n"
   ]
  },
  {
   "cell_type": "markdown",
   "metadata": {},
   "source": [
    "#### Problem 2: Average age by team"
   ]
  },
  {
   "cell_type": "code",
   "execution_count": 4,
   "metadata": {},
   "outputs": [
    {
     "name": "stdout",
     "output_type": "stream",
     "text": [
      "('MIN', 30.545454545454547)\n",
      "('PHO', 28.5)\n",
      "('LA', 28.5)\n",
      "('IND', 28.0)\n",
      "('SEA', 27.083333333333332)\n",
      "('ATL', 26.90909090909091)\n",
      "('SAN', 26.692307692307693)\n",
      "('WAS', 26.666666666666668)\n",
      "('CHI', 26.666666666666668)\n",
      "('NY', 26.0)\n",
      "('CON', 25.0)\n",
      "('DAL', 24.666666666666668)\n"
     ]
    }
   ],
   "source": [
    "cur.execute(\"SELECT Team,AVG(Age) as age FROM WNBA GROUP BY Team ORDER BY age DESC\")\n",
    "rows = cur.fetchall()\n",
    "for row in rows:\n",
    "    print(row)"
   ]
  },
  {
   "cell_type": "markdown",
   "metadata": {},
   "source": [
    "#### Problem 3: Total points leaders top 10"
   ]
  },
  {
   "cell_type": "code",
   "execution_count": 5,
   "metadata": {},
   "outputs": [
    {
     "name": "stdout",
     "output_type": "stream",
     "text": [
      "('Breanna Stewart', 584)\n",
      "('Tina Charles', 582)\n",
      "('Nneka Ogwumike', 577)\n",
      "('Sylvia Fowles', 572)\n",
      "('Skylar Diggins-Smith', 545)\n",
      "('Jia Perkins', 517)\n",
      "('Devereaux Peters', 514)\n",
      "('Candace Parker', 494)\n",
      "('Maya Moore', 490)\n",
      "('Jordan Hooper', 467)\n"
     ]
    }
   ],
   "source": [
    "cur.execute(\"SELECT Name,PTS FROM WNBA ORDER BY PTS DESC LIMIT 10\")\n",
    "rows = cur.fetchall()\n",
    "for row in rows:\n",
    "    print(row)"
   ]
  },
  {
   "cell_type": "markdown",
   "metadata": {},
   "source": [
    "#### Problem 4: Total points per minute top 10"
   ]
  },
  {
   "cell_type": "code",
   "execution_count": 6,
   "metadata": {},
   "outputs": [
    {
     "name": "stdout",
     "output_type": "stream",
     "text": [
      "('Brittany Boyd', 32, 26, 0.8125)\n",
      "('Brittney Griner', 682, 461, 0.6759530791788856)\n",
      "('Devereaux Peters', 796, 514, 0.6457286432160804)\n",
      "('Sylvia Fowles', 895, 572, 0.6391061452513966)\n",
      "('Diana Taurasi', 591, 376, 0.6362098138747885)\n",
      "('Breanna Stewart', 952, 584, 0.6134453781512605)\n",
      "('Tina Charles', 952, 582, 0.6113445378151261)\n",
      "('Nneka Ogwumike', 948, 577, 0.6086497890295358)\n",
      "('Danielle Adams', 81, 49, 0.6049382716049383)\n",
      "('Jordan Hooper', 833, 467, 0.56062424969988)\n"
     ]
    }
   ],
   "source": [
    "cur.execute(\"SELECT Name,MIN,PTS,CAST((PTS)AS FLOAT)/MIN AS ptsMIN FROM WNBA ORDER BY ptsMIN DESC LIMIT 10\")\n",
    "rows = cur.fetchall()\n",
    "for row in rows:\n",
    "    print(row)"
   ]
  },
  {
   "cell_type": "markdown",
   "metadata": {},
   "source": [
    "#### Problem 5: Total 3-point made by Team"
   ]
  },
  {
   "cell_type": "code",
   "execution_count": 7,
   "metadata": {},
   "outputs": [
    {
     "name": "stdout",
     "output_type": "stream",
     "text": [
      "('CHI', 70)\n",
      "('SAN', 21)\n",
      "('CON', 19)\n",
      "('IND', 18)\n",
      "('DAL', 12)\n",
      "('MIN', 7)\n",
      "('LA', 5)\n",
      "('PHO', 4)\n",
      "('WAS', 2)\n",
      "('SEA', 2)\n",
      "('NY', 2)\n",
      "('ATL', 0)\n"
     ]
    }
   ],
   "source": [
    "cur.execute(\"SELECT Team,\\\"15:00\\\" AS tpm FROM WNBA GROUP BY Team ORDER BY tpm DESC\")\n",
    "rows = cur.fetchall()\n",
    "for row in rows:\n",
    "    print(row)"
   ]
  },
  {
   "cell_type": "markdown",
   "metadata": {},
   "source": [
    "#### Problem 6: Players' collages"
   ]
  },
  {
   "cell_type": "code",
   "execution_count": 8,
   "metadata": {},
   "outputs": [
    {
     "name": "stdout",
     "output_type": "stream",
     "text": [
      "('Connecticut', 14)\n",
      "('Maryland', 8)\n",
      "('Rutgers', 7)\n",
      "('Duke', 7)\n",
      "('Notre Dame', 6)\n",
      "('Tennessee', 5)\n",
      "('North Carolina', 5)\n",
      "('LSU', 4)\n",
      "('Baylor', 4)\n",
      "('Stanford', 3)\n",
      "('South Carolina', 3)\n",
      "('Minnesota', 3)\n",
      "('Kentucky', 3)\n",
      "('Brazil', 3)\n",
      "('Arizona State', 3)\n",
      "('West Virginia', 2)\n",
      "('Washington', 2)\n",
      "('UC Berkeley', 2)\n",
      "('Texas Tech', 2)\n",
      "('Texas A&M', 2)\n",
      "('Texas', 2)\n",
      "('Southern California', 2)\n",
      "('Oklahoma', 2)\n",
      "('Ohio State', 2)\n",
      "('Nebraska', 2)\n",
      "('Middle Tennessee', 2)\n",
      "('Miami (FL)', 2)\n",
      "('Georgetown', 2)\n",
      "('DePaul', 2)\n",
      "('Australia', 2)\n",
      "('Xavier', 1)\n",
      "('Wake Forest', 1)\n",
      "('Utah', 1)\n",
      "('UNLV', 1)\n",
      "('UCLA', 1)\n",
      "('Texas–El Paso', 1)\n",
      "('Temple', 1)\n",
      "('Syracuse', 1)\n",
      "('Syracruse', 1)\n",
      "('South Florida', 1)\n",
      "('Simon Fraser', 1)\n",
      "('Sengal', 1)\n",
      "(\"Saint Joseph's\", 1)\n",
      "('Pittsburgh', 1)\n",
      "('Penn State', 1)\n",
      "('Oregon State', 1)\n",
      "('Northwestern', 1)\n",
      "('Michigan State', 1)\n",
      "('Louisville', 1)\n",
      "('Kansas State', 1)\n",
      "('Japan', 1)\n",
      "('James Madison', 1)\n",
      "('Houston', 1)\n",
      "('Gonzaga', 1)\n",
      "('Georgia Tech', 1)\n",
      "('Georgia', 1)\n",
      "('George Washington', 1)\n",
      "('France', 1)\n",
      "('Florida State', 1)\n",
      "('Florida', 1)\n",
      "('Delaware', 1)\n",
      "('Central Florida', 1)\n",
      "('Brigham Young', 1)\n",
      "('Boston College', 1)\n",
      "('Belgium', 1)\n"
     ]
    }
   ],
   "source": [
    "cur.execute(\"SELECT College,COUNT(College) AS count FROM WNBA GROUP BY College ORDER BY count DESC\")\n",
    "rows = cur.fetchall()\n",
    "for row in rows:\n",
    "    print(row)   "
   ]
  },
  {
   "cell_type": "markdown",
   "metadata": {},
   "source": [
    "#### Problem 7: Total 3-point made by Players in Team LA"
   ]
  },
  {
   "cell_type": "code",
   "execution_count": 9,
   "metadata": {},
   "outputs": [
    {
     "name": "stdout",
     "output_type": "stream",
     "text": [
      "('Chelsea Gray', 48)\n",
      "('Candace Parker', 40)\n",
      "('Riquna Williams', 20)\n",
      "('Nneka Ogwumike', 18)\n",
      "('Sydney Wiese', 13)\n",
      "('Odyssey Sims', 11)\n",
      "('Alana Beard', 5)\n",
      "('Jantel Lavender', 4)\n",
      "('Essence Carson', 0)\n",
      "('Maimouna Diarra', 0)\n",
      "('Sandrine Gruda', 0)\n",
      "('Tiffany Jackson', 0)\n"
     ]
    }
   ],
   "source": [
    "cur.execute(\"SELECT Name,\\\"15:00\\\" AS threePM FROM WNBA WHERE Team='LA' ORDER BY threePM DESC\")\n",
    "rows = cur.fetchall()\n",
    "for row in rows:\n",
    "    print(row)"
   ]
  },
  {
   "cell_type": "markdown",
   "metadata": {},
   "source": [
    "#### Problem 8: Center (C)  players and their total points"
   ]
  },
  {
   "cell_type": "code",
   "execution_count": 10,
   "metadata": {},
   "outputs": [
    {
     "name": "stdout",
     "output_type": "stream",
     "text": [
      "('Sylvia Fowles', 'MIN', 572)\n",
      "('Brittney Griner', 'PHO', 461)\n",
      "('Stefanie Dolson', 'CHI', 398)\n",
      "('Isabelle Harrison', 'SAN', 364)\n",
      "('Kayla Alexander', 'SAN', 318)\n",
      "('Emma Meesseman', 'WAS', 259)\n",
      "('Damiris Dantas', 'ATL', 254)\n",
      "('Natalie Achonwa', 'IND', 207)\n",
      "('Jantel Lavender', 'LA', 200)\n",
      "('Krystal Thomas', 'WAS', 199)\n",
      "('Érika de Souza', 'SAN', 159)\n",
      "('Kiah Stokes', 'NY', 141)\n",
      "('Kia Vaughn', 'NY', 134)\n",
      "('Imani Boyette', 'ATL', 127)\n",
      "('Lynetta Kizer', 'CON', 119)\n",
      "('Cayla George', 'PHO', 100)\n",
      "('Courtney Paris', 'DAL', 70)\n",
      "('Carolyn Swords', 'SEA', 54)\n",
      "('Amanda Zahui B.', 'NY', 51)\n",
      "('Clarissa dos Santos', 'SAN', 17)\n",
      "('Temi Fagbenle', 'MIN', 17)\n",
      "('Jennifer Hamson', 'IND', 12)\n",
      "('Breanna Lewis', 'DAL', 7)\n",
      "('Lanay Montgomery', 'SEA', 6)\n",
      "('Maimouna Diarra', 'LA', 3)\n"
     ]
    }
   ],
   "source": [
    "cur.execute(\"SELECT Name,Team,PTS FROM WNBA WHERE Pos='C' ORDER BY PTS DESC\")\n",
    "rows = cur.fetchall()\n",
    "for row in rows:\n",
    "    print(row)"
   ]
  },
  {
   "cell_type": "markdown",
   "metadata": {},
   "source": [
    "#### Problem 9: Average height by position"
   ]
  },
  {
   "cell_type": "code",
   "execution_count": 11,
   "metadata": {},
   "outputs": [
    {
     "name": "stdout",
     "output_type": "stream",
     "text": [
      "('C', 194.92)\n",
      "('F/C', 191.75)\n",
      "('F', 188.4848484848485)\n",
      "('G/F', 185.53846153846155)\n",
      "('G', 176.45)\n"
     ]
    }
   ],
   "source": [
    "cur.execute(\"SELECT Pos,AVG(Height) AS avgH FROM WNBA GROUP BY Pos ORDER BY avgH DESC\")\n",
    "rows = cur.fetchall()\n",
    "for row in rows:\n",
    "    print(row)"
   ]
  },
  {
   "cell_type": "markdown",
   "metadata": {},
   "source": [
    "#### Problem 10: Players birth place and count"
   ]
  },
  {
   "cell_type": "code",
   "execution_count": 12,
   "metadata": {},
   "outputs": [
    {
     "name": "stdout",
     "output_type": "stream",
     "text": [
      "('US', 123)\n",
      "('CA', 3)\n",
      "('BR', 3)\n",
      "('AU', 3)\n",
      "('UK', 1)\n",
      "('SN', 1)\n",
      "('SE', 1)\n",
      "('PR', 1)\n",
      "('NG', 1)\n",
      "('JP', 1)\n",
      "('JM', 1)\n",
      "('FR', 1)\n",
      "('ES', 1)\n",
      "('BS', 1)\n",
      "('BE', 1)\n"
     ]
    }
   ],
   "source": [
    "cur.execute(\"SELECT Birth_Place,Count(Birth_Place) AS count FROM WNBA GROUP BY Birth_Place ORDER BY count DESC\")\n",
    "rows = cur.fetchall()\n",
    "for row in rows:\n",
    "    print(row)"
   ]
  },
  {
   "cell_type": "markdown",
   "metadata": {},
   "source": [
    "#### Problem 11: Average turnover by age"
   ]
  },
  {
   "cell_type": "code",
   "execution_count": 13,
   "metadata": {},
   "outputs": [
    {
     "name": "stdout",
     "output_type": "stream",
     "text": [
      "(36, 57.0)\n",
      "(35, 49.5)\n",
      "(34, 42.6)\n",
      "(33, 38.333333333333336)\n",
      "(32, 35.0)\n",
      "(31, 30.0)\n",
      "(30, 35.888888888888886)\n",
      "(29, 26.125)\n",
      "(28, 31.928571428571427)\n",
      "(27, 38.0)\n",
      "(26, 33.666666666666664)\n",
      "(25, 28.266666666666666)\n",
      "(24, 32.0)\n",
      "(23, 24.2)\n",
      "(22, 28.7)\n",
      "(21, 11.5)\n"
     ]
    }
   ],
   "source": [
    "cur.execute(\"SELECT Age,AVG(\\\"TO\\\") AS avg FROM WNBA GROUP BY Age ORDER BY Age DESC\")\n",
    "rows = cur.fetchall()\n",
    "for row in rows:\n",
    "    print(row)"
   ]
  },
  {
   "cell_type": "markdown",
   "metadata": {},
   "source": [
    "#### Problem 12:  Top 10 blocker players of the top 5 blocker teams"
   ]
  },
  {
   "cell_type": "code",
   "execution_count": 14,
   "metadata": {},
   "outputs": [
    {
     "name": "stdout",
     "output_type": "stream",
     "text": [
      "('Elena Delle Donne', 'WAS', 64)\n",
      "('Sylvia Fowles', 'MIN', 61)\n",
      "('Brittney Griner', 'PHO', 54)\n",
      "('Jewell Loyd', 'SEA', 50)\n",
      "('Breanna Stewart', 'SEA', 47)\n",
      "('Jordan Hooper', 'CHI', 46)\n",
      "('Stefanie Dolson', 'CHI', 37)\n",
      "('Diana Taurasi', 'PHO', 31)\n",
      "('Krystal Thomas', 'WAS', 31)\n",
      "('Emma Cannon', 'PHO', 27)\n"
     ]
    }
   ],
   "source": [
    "cur.execute(\"SELECT Name,Team,BLK FROM WNBA WHERE Team IN (SELECT Team FROM WNBA GROUP BY Team ORDER BY SUM(BLK) DESC LIMIT 5) ORDER BY BLK DESC LIMIT 10\")\n",
    "rows = cur.fetchall()\n",
    "for row in rows:\n",
    "    print(row)"
   ]
  },
  {
   "cell_type": "markdown",
   "metadata": {},
   "source": [
    "#### Problem 13: Players whose names are start with J"
   ]
  },
  {
   "cell_type": "code",
   "execution_count": 15,
   "metadata": {},
   "outputs": [
    {
     "name": "stdout",
     "output_type": "stream",
     "text": [
      "('Jantel Lavender', 'LA')\n",
      "('Jasmine Thomas', 'CON')\n",
      "('Jazmon Gwathmey', 'IND')\n",
      "('Jeanette Pohlen', 'IND')\n",
      "('Jennifer Hamson', 'IND')\n",
      "('Jessica Breland', 'CHI')\n",
      "('Jewell Loyd', 'SEA')\n",
      "('Jia Perkins', 'MIN')\n",
      "('Jonquel Jones', 'CON')\n",
      "('Jordan Hooper', 'CHI')\n"
     ]
    }
   ],
   "source": [
    "cur.execute(\"SELECT Name,Team FROM WNBA WHERE Name LIKE 'J%'\")\n",
    "rows = cur.fetchall()\n",
    "for row in rows:\n",
    "    print(row)"
   ]
  },
  {
   "cell_type": "code",
   "execution_count": null,
   "metadata": {},
   "outputs": [],
   "source": []
  }
 ],
 "metadata": {
  "kernelspec": {
   "display_name": "Python 3",
   "language": "python",
   "name": "python3"
  },
  "language_info": {
   "codemirror_mode": {
    "name": "ipython",
    "version": 3
   },
   "file_extension": ".py",
   "mimetype": "text/x-python",
   "name": "python",
   "nbconvert_exporter": "python",
   "pygments_lexer": "ipython3",
   "version": "3.7.1"
  }
 },
 "nbformat": 4,
 "nbformat_minor": 2
}
